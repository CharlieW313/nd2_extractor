{
 "cells": [
  {
   "cell_type": "code",
   "execution_count": 1,
   "metadata": {
    "scrolled": true
   },
   "outputs": [
    {
     "name": "stdout",
     "output_type": "stream",
     "text": [
      " __________________________________________________ \n",
      "< BakshiLab FAST ND2 Extractor - By Georgeos Hardo >\n",
      " -------------------------------------------------- \n",
      "    \\                                  ___-------___\n",
      "     \\                             _-~~             ~~-_\n",
      "      \\                         _-~                    /~-_\n",
      "             /^\\__/^\\         /~  \\                   /    \\\n",
      "           /|  O|| O|        /      \\_______________/        \\\n",
      "          | |___||__|      /       /                \\          \\\n",
      "          |          \\    /      /                    \\          \\\n",
      "          |   (_______) /______/                        \\_________ \\\n",
      "          |         / /         \\                      /            \\\n",
      "           \\         \\^\\\\         \\                  /               \\     /\n",
      "             \\         ||           \\______________/      _-_       //\\__//\n",
      "               \\       ||------_-~~-_ ------------- \\ --/~   ~\\    || __/\n",
      "                 ~-----||====/~     |==================|       |/~~~~~\n",
      "                  (_(__/  ./     /                    \\_\\      \\.\n",
      "                         (_(___/                         \\_____)_)\n"
     ]
    }
   ],
   "source": [
    "from nd2_extractor_helpers import *\n",
    "from tkinter import filedialog\n",
    "greeting()"
   ]
  },
  {
   "cell_type": "code",
   "execution_count": 2,
   "metadata": {},
   "outputs": [],
   "source": [
    "prompt = True\n",
    "if prompt:\n",
    "    nd2_directory = filedialog.askopenfilename()\n",
    "    save_directory = filedialog.askdirectory()\n",
    "else:\n",
    "    nd2_directory = \"/home/georgeos/Storage/Dropbox (Cambridge University)/DATA_Bakshi_PaulssonLab/40x_Ph2_testData/40x_Ph2_Test_1.7_ND2/40x_Ph2_Test_1.7.nd2\"\n",
    "    save_directory = \"/home/georgeos/Storage/Dropbox (Cambridge University)/DATA_Bakshi_PaulssonLab/40x_Ph2_testData/40x_Ph2_Test_1.7_ND2_extracted\""
   ]
  },
  {
   "cell_type": "code",
   "execution_count": null,
   "metadata": {},
   "outputs": [],
   "source": [
    "main_loop(nd2_directory,save_directory)"
   ]
  }
 ],
 "metadata": {
  "kernelspec": {
   "display_name": "Python 3",
   "language": "python",
   "name": "python3"
  },
  "language_info": {
   "codemirror_mode": {
    "name": "ipython",
    "version": 3
   },
   "file_extension": ".py",
   "mimetype": "text/x-python",
   "name": "python",
   "nbconvert_exporter": "python",
   "pygments_lexer": "ipython3",
   "version": "3.8.3"
  }
 },
 "nbformat": 4,
 "nbformat_minor": 4
}
