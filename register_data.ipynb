{
 "cells": [
  {
   "cell_type": "code",
   "execution_count": 1,
   "metadata": {},
   "outputs": [],
   "source": [
    "from pystackreg import StackReg\n",
    "import numpy as np\n",
    "from skimage.external.tifffile import TiffFile \n",
    "from tifffile import memmap\n",
    "import pandas as pd\n",
    "import os, re\n",
    "from PIL import Image\n",
    "from joblib import Parallel, delayed"
   ]
  },
  {
   "cell_type": "code",
   "execution_count": 2,
   "metadata": {},
   "outputs": [],
   "source": [
    "tiffs_directory = \"/home/georgeos/Storage/Dropbox (Cambridge University)/DATA_Bakshi_PaulssonLab/40x_Ph2_testData/40x_Ph2_Test_1.5_ND2_extracted\"\n",
    "if tiffs_directory[-1] != \"/\":\n",
    "    tiffs_directory += \"/\"\n",
    "tiff_names = os.listdir(tiffs_directory)\n",
    "tiff_names.sort()\n",
    "experiment_file_data = []\n",
    "for name in tiff_names:\n",
    "    file_data = re.split(' |\\_| |\\.| ',name)[:3]\n",
    "    file_data[1] = file_data[1][1:]\n",
    "    file_data.append(tiffs_directory + name)\n",
    "    experiment_file_data.append(file_data)\n",
    "experiment_file_data = pd.DataFrame(experiment_file_data)\n",
    "experiment_file_data.columns = [\"position\", \"time\", \"channel\", \"directory\"]"
   ]
  },
  {
   "cell_type": "code",
   "execution_count": 3,
   "metadata": {},
   "outputs": [],
   "source": [
    "n_positions = len(experiment_file_data[\"position\"].unique())\n",
    "n_times = len(experiment_file_data[\"time\"].unique())\n",
    "n_channel = len(experiment_file_data[\"channel\"].unique())\n",
    "y_len, x_len = np.array(Image.open(experiment_file_data[\"directory\"][0])).shape"
   ]
  },
  {
   "cell_type": "code",
   "execution_count": 4,
   "metadata": {},
   "outputs": [],
   "source": [
    "positions = experiment_file_data[\"position\"].unique()\n",
    "times = experiment_file_data[\"time\"].unique()\n",
    "channels = experiment_file_data[\"channel\"].unique()\n",
    "reference_time = \"0003\"\n",
    "reference_channel = \"BF\""
   ]
  },
  {
   "cell_type": "code",
   "execution_count": 5,
   "metadata": {},
   "outputs": [],
   "source": [
    "memmap_image = memmap(\"../test.tif\",shape=(n_positions, n_channel, n_times, y_len, x_len), dtype=np.uint16)\n",
    "def register_transform(memmap_image, time, reference_channel, reference_time):\n",
    "    pos_val = 0\n",
    "    for position in positions:\n",
    "        channel_val = 0\n",
    "        reference_image_directory = experiment_file_data[(experiment_file_data[\"position\"] == position) \n",
    "                 & (experiment_file_data[\"time\"] == reference_time)\n",
    "                 & (experiment_file_data[\"channel\"] == reference_channel)\n",
    "                ][\"directory\"].iloc[0]\n",
    "        reference_image = np.array(Image.open(reference_image_directory))\n",
    "        image_for_register_ref_channel = experiment_file_data[(experiment_file_data[\"position\"] == position) \n",
    "                                                & (experiment_file_data[\"channel\"] == reference_channel)\n",
    "                                                & (experiment_file_data[\"time\"] == time)\n",
    "                                               ]\n",
    "        ref_channel_image_dir = image_for_register_ref_channel[\"directory\"].iloc[0]\n",
    "        current_ref_channel_image = np.array(Image.open(ref_channel_image_dir))\n",
    "        sr = StackReg(StackReg.RIGID_BODY)\n",
    "        sr.register(reference_image, current_ref_channel_image)\n",
    "        \n",
    "        for channel in channels:\n",
    "            current_data = experiment_file_data[(experiment_file_data[\"position\"] == position) \n",
    "                                                & (experiment_file_data[\"channel\"] == channel)\n",
    "                                                & (experiment_file_data[\"time\"] == time)\n",
    "                                               ]\n",
    "            current_image_dir = current_data[\"directory\"].iloc[0]\n",
    "            current_image = np.array(Image.open(current_image_dir))\n",
    "            out_tra = sr.transform(current_image)\n",
    "            memmap_image[pos_val,channel_val,int(time),:,:] = out_tra\n",
    "            channel_val += 1\n",
    "        pos_val += 1"
   ]
  },
  {
   "cell_type": "code",
   "execution_count": 6,
   "metadata": {
    "collapsed": true,
    "jupyter": {
     "outputs_hidden": true
    }
   },
   "outputs": [
    {
     "data": {
      "text/plain": [
       "[None,\n",
       " None,\n",
       " None,\n",
       " None,\n",
       " None,\n",
       " None,\n",
       " None,\n",
       " None,\n",
       " None,\n",
       " None,\n",
       " None,\n",
       " None,\n",
       " None,\n",
       " None,\n",
       " None,\n",
       " None,\n",
       " None,\n",
       " None,\n",
       " None,\n",
       " None,\n",
       " None,\n",
       " None,\n",
       " None,\n",
       " None,\n",
       " None]"
      ]
     },
     "execution_count": 6,
     "metadata": {},
     "output_type": "execute_result"
    }
   ],
   "source": [
    "_ = Parallel(n_jobs=-1)(delayed(register_transform)(\n",
    "    memmap_image,\n",
    "    time,reference_channel,\n",
    "    reference_time\n",
    ") for time in times)"
   ]
  },
  {
   "cell_type": "code",
   "execution_count": 7,
   "metadata": {},
   "outputs": [],
   "source": []
  },
  {
   "cell_type": "code",
   "execution_count": null,
   "metadata": {},
   "outputs": [],
   "source": []
  }
 ],
 "metadata": {
  "kernelspec": {
   "display_name": "Python 3",
   "language": "python",
   "name": "python3"
  },
  "language_info": {
   "codemirror_mode": {
    "name": "ipython",
    "version": 3
   },
   "file_extension": ".py",
   "mimetype": "text/x-python",
   "name": "python",
   "nbconvert_exporter": "python",
   "pygments_lexer": "ipython3",
   "version": "3.8.3"
  }
 },
 "nbformat": 4,
 "nbformat_minor": 4
}
