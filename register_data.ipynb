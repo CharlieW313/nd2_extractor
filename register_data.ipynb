{
 "cells": [
  {
   "cell_type": "code",
   "execution_count": 1,
   "metadata": {},
   "outputs": [],
   "source": [
    "from pystackreg import StackReg\n",
    "import numpy as np\n",
    "import tifffile\n",
    "from tifffile import memmap\n",
    "import pandas as pd\n",
    "import os, re\n",
    "from PIL import Image\n",
    "from joblib import Parallel, delayed\n",
    "from tqdm.notebook import tqdm"
   ]
  },
  {
   "cell_type": "code",
   "execution_count": 2,
   "metadata": {},
   "outputs": [],
   "source": [
    "tiffs_directory = \"/home/georgeos/Storage/Dropbox (Cambridge University)/DATA_Bakshi_PaulssonLab/PHASE_GC001/extracted\"\n",
    "if tiffs_directory[-1] != \"/\":\n",
    "    tiffs_directory += \"/\"\n",
    "tiff_names = os.listdir(tiffs_directory)\n",
    "tiff_names.sort()\n",
    "experiment_file_data = []\n",
    "for name in tiff_names:\n",
    "    file_data = re.split(' |\\_| |\\.| ',name)[:3]\n",
    "    file_data[1] = file_data[1][1:]\n",
    "    file_data.append(tiffs_directory + name)\n",
    "    experiment_file_data.append(file_data)\n",
    "experiment_file_data = pd.DataFrame(experiment_file_data)\n",
    "experiment_file_data.columns = [\"position\", \"time\", \"channel\", \"directory\"]"
   ]
  },
  {
   "cell_type": "code",
   "execution_count": 3,
   "metadata": {},
   "outputs": [
    {
     "data": {
      "text/html": [
       "<div>\n",
       "<style scoped>\n",
       "    .dataframe tbody tr th:only-of-type {\n",
       "        vertical-align: middle;\n",
       "    }\n",
       "\n",
       "    .dataframe tbody tr th {\n",
       "        vertical-align: top;\n",
       "    }\n",
       "\n",
       "    .dataframe thead th {\n",
       "        text-align: right;\n",
       "    }\n",
       "</style>\n",
       "<table border=\"1\" class=\"dataframe\">\n",
       "  <thead>\n",
       "    <tr style=\"text-align: right;\">\n",
       "      <th></th>\n",
       "      <th>position</th>\n",
       "      <th>time</th>\n",
       "      <th>channel</th>\n",
       "      <th>directory</th>\n",
       "    </tr>\n",
       "  </thead>\n",
       "  <tbody>\n",
       "    <tr>\n",
       "      <th>0</th>\n",
       "      <td>xy000</td>\n",
       "      <td>0000</td>\n",
       "      <td>BF</td>\n",
       "      <td>/home/georgeos/Storage/Dropbox (Cambridge Univ...</td>\n",
       "    </tr>\n",
       "    <tr>\n",
       "      <th>1</th>\n",
       "      <td>xy000</td>\n",
       "      <td>0001</td>\n",
       "      <td>BF</td>\n",
       "      <td>/home/georgeos/Storage/Dropbox (Cambridge Univ...</td>\n",
       "    </tr>\n",
       "    <tr>\n",
       "      <th>2</th>\n",
       "      <td>xy000</td>\n",
       "      <td>0002</td>\n",
       "      <td>BF</td>\n",
       "      <td>/home/georgeos/Storage/Dropbox (Cambridge Univ...</td>\n",
       "    </tr>\n",
       "    <tr>\n",
       "      <th>3</th>\n",
       "      <td>xy000</td>\n",
       "      <td>0003</td>\n",
       "      <td>BF</td>\n",
       "      <td>/home/georgeos/Storage/Dropbox (Cambridge Univ...</td>\n",
       "    </tr>\n",
       "    <tr>\n",
       "      <th>4</th>\n",
       "      <td>xy000</td>\n",
       "      <td>0004</td>\n",
       "      <td>BF</td>\n",
       "      <td>/home/georgeos/Storage/Dropbox (Cambridge Univ...</td>\n",
       "    </tr>\n",
       "    <tr>\n",
       "      <th>...</th>\n",
       "      <td>...</td>\n",
       "      <td>...</td>\n",
       "      <td>...</td>\n",
       "      <td>...</td>\n",
       "    </tr>\n",
       "    <tr>\n",
       "      <th>180456</th>\n",
       "      <td>xy112</td>\n",
       "      <td>1592</td>\n",
       "      <td>BF</td>\n",
       "      <td>/home/georgeos/Storage/Dropbox (Cambridge Univ...</td>\n",
       "    </tr>\n",
       "    <tr>\n",
       "      <th>180457</th>\n",
       "      <td>xy112</td>\n",
       "      <td>1593</td>\n",
       "      <td>BF</td>\n",
       "      <td>/home/georgeos/Storage/Dropbox (Cambridge Univ...</td>\n",
       "    </tr>\n",
       "    <tr>\n",
       "      <th>180458</th>\n",
       "      <td>xy112</td>\n",
       "      <td>1594</td>\n",
       "      <td>BF</td>\n",
       "      <td>/home/georgeos/Storage/Dropbox (Cambridge Univ...</td>\n",
       "    </tr>\n",
       "    <tr>\n",
       "      <th>180459</th>\n",
       "      <td>xy112</td>\n",
       "      <td>1595</td>\n",
       "      <td>BF</td>\n",
       "      <td>/home/georgeos/Storage/Dropbox (Cambridge Univ...</td>\n",
       "    </tr>\n",
       "    <tr>\n",
       "      <th>180460</th>\n",
       "      <td>xy112</td>\n",
       "      <td>1596</td>\n",
       "      <td>BF</td>\n",
       "      <td>/home/georgeos/Storage/Dropbox (Cambridge Univ...</td>\n",
       "    </tr>\n",
       "  </tbody>\n",
       "</table>\n",
       "<p>180461 rows × 4 columns</p>\n",
       "</div>"
      ],
      "text/plain": [
       "       position  time channel  \\\n",
       "0         xy000  0000      BF   \n",
       "1         xy000  0001      BF   \n",
       "2         xy000  0002      BF   \n",
       "3         xy000  0003      BF   \n",
       "4         xy000  0004      BF   \n",
       "...         ...   ...     ...   \n",
       "180456    xy112  1592      BF   \n",
       "180457    xy112  1593      BF   \n",
       "180458    xy112  1594      BF   \n",
       "180459    xy112  1595      BF   \n",
       "180460    xy112  1596      BF   \n",
       "\n",
       "                                                directory  \n",
       "0       /home/georgeos/Storage/Dropbox (Cambridge Univ...  \n",
       "1       /home/georgeos/Storage/Dropbox (Cambridge Univ...  \n",
       "2       /home/georgeos/Storage/Dropbox (Cambridge Univ...  \n",
       "3       /home/georgeos/Storage/Dropbox (Cambridge Univ...  \n",
       "4       /home/georgeos/Storage/Dropbox (Cambridge Univ...  \n",
       "...                                                   ...  \n",
       "180456  /home/georgeos/Storage/Dropbox (Cambridge Univ...  \n",
       "180457  /home/georgeos/Storage/Dropbox (Cambridge Univ...  \n",
       "180458  /home/georgeos/Storage/Dropbox (Cambridge Univ...  \n",
       "180459  /home/georgeos/Storage/Dropbox (Cambridge Univ...  \n",
       "180460  /home/georgeos/Storage/Dropbox (Cambridge Univ...  \n",
       "\n",
       "[180461 rows x 4 columns]"
      ]
     },
     "execution_count": 3,
     "metadata": {},
     "output_type": "execute_result"
    }
   ],
   "source": [
    "experiment_file_data"
   ]
  },
  {
   "cell_type": "code",
   "execution_count": 18,
   "metadata": {},
   "outputs": [],
   "source": [
    "n_positions = len(experiment_file_data[\"position\"].unique())\n",
    "n_times = len(experiment_file_data[\"time\"].unique())\n",
    "n_channel = len(experiment_file_data[\"channel\"].unique())\n",
    "y_len, x_len = np.array(Image.open(experiment_file_data[\"directory\"][0])).shape"
   ]
  },
  {
   "cell_type": "code",
   "execution_count": 19,
   "metadata": {},
   "outputs": [],
   "source": [
    "positions = experiment_file_data[\"position\"].unique()\n",
    "times = experiment_file_data[\"time\"].unique()\n",
    "channels = experiment_file_data[\"channel\"].unique()\n",
    "reference_time = \"0115\"\n",
    "reference_channel = \"BF\""
   ]
  },
  {
   "cell_type": "code",
   "execution_count": 20,
   "metadata": {},
   "outputs": [
    {
     "name": "stderr",
     "output_type": "stream",
     "text": [
      "/home/georgeos/anaconda3/envs/SYMPTOMM/lib/python3.8/site-packages/tifffile/tifffile.py:2672: UserWarning: TiffWriter: truncating ImageJ file\n",
      "  warnings.warn(\n"
     ]
    }
   ],
   "source": [
    "memmap_image = memmap(\n",
    "    \"/home/georgeos/Storage/Dropbox (Cambridge University)/DATA_Bakshi_PaulssonLab/PHASE_GC001/registered/registered.tif\",\n",
    "    shape=(n_positions, n_channel, n_times, y_len, x_len), \n",
    "    dtype=np.uint16,\n",
    "    imagej=True)\n",
    "def register_transform(memmap_image, time, reference_channel, reference_time):\n",
    "    pos_val = 0\n",
    "    for position in tqdm(positions):\n",
    "        channel_val = 0\n",
    "        reference_image_directory = experiment_file_data[(experiment_file_data[\"position\"] == position) \n",
    "                 & (experiment_file_data[\"time\"] == reference_time)\n",
    "                 & (experiment_file_data[\"channel\"] == reference_channel)\n",
    "                ][\"directory\"].iloc[0]\n",
    "        reference_image = np.array(Image.open(reference_image_directory))\n",
    "        image_for_register_ref_channel = experiment_file_data[(experiment_file_data[\"position\"] == position) \n",
    "                                                & (experiment_file_data[\"channel\"] == reference_channel)\n",
    "                                                & (experiment_file_data[\"time\"] == time)\n",
    "                                               ]\n",
    "        ref_channel_image_dir = image_for_register_ref_channel[\"directory\"].iloc[0]\n",
    "        current_ref_channel_image = np.array(Image.open(ref_channel_image_dir))\n",
    "        sr = StackReg(StackReg.RIGID_BODY)\n",
    "        sr.register(reference_image, current_ref_channel_image)\n",
    "        \n",
    "        for channel in tqdm(channels):\n",
    "            current_data = experiment_file_data[(experiment_file_data[\"position\"] == position) \n",
    "                                                & (experiment_file_data[\"channel\"] == channel)\n",
    "                                                & (experiment_file_data[\"time\"] == time)\n",
    "                                               ]\n",
    "            current_image_dir = current_data[\"directory\"].iloc[0]\n",
    "            current_image = np.array(Image.open(current_image_dir))\n",
    "            out_tra = sr.transform(current_image)\n",
    "            memmap_image[pos_val,channel_val,int(time),:,:] = out_tra\n",
    "            channel_val += 1\n",
    "        pos_val += 1"
   ]
  },
  {
   "cell_type": "code",
   "execution_count": 21,
   "metadata": {
    "tags": []
   },
   "outputs": [
    {
     "data": {
      "application/vnd.jupyter.widget-view+json": {
       "model_id": "ae28aec9e49144c695d0695f842f68ee",
       "version_major": 2,
       "version_minor": 0
      },
      "text/plain": [
       "  0%|          | 0/1597 [00:00<?, ?it/s]"
      ]
     },
     "metadata": {},
     "output_type": "display_data"
    },
    {
     "name": "stderr",
     "output_type": "stream",
     "text": [
      "/home/georgeos/anaconda3/envs/SYMPTOMM/lib/python3.8/site-packages/joblib/externals/loky/process_executor.py:688: UserWarning: A worker stopped while some jobs were given to the executor. This can be caused by a too short worker timeout or by a memory leak.\n",
      "  warnings.warn(\n"
     ]
    },
    {
     "name": "stdout",
     "output_type": "stream",
     "text": [
      "CPU times: user 8min 44s, sys: 51.3 s, total: 9min 36s\n",
      "Wall time: 9h 56min 25s\n"
     ]
    }
   ],
   "source": [
    "%%time\n",
    "_ = Parallel(n_jobs=14)(delayed(register_transform)(\n",
    "    memmap_image,\n",
    "    time,reference_channel,\n",
    "    reference_time\n",
    ") for time in tqdm(times))"
   ]
  },
  {
   "cell_type": "code",
   "execution_count": null,
   "metadata": {},
   "outputs": [],
   "source": []
  }
 ],
 "metadata": {
  "kernelspec": {
   "display_name": "Python 3",
   "language": "python",
   "name": "python3"
  },
  "language_info": {
   "codemirror_mode": {
    "name": "ipython",
    "version": 3
   },
   "file_extension": ".py",
   "mimetype": "text/x-python",
   "name": "python",
   "nbconvert_exporter": "python",
   "pygments_lexer": "ipython3",
   "version": "3.8.8"
  }
 },
 "nbformat": 4,
 "nbformat_minor": 4
}
