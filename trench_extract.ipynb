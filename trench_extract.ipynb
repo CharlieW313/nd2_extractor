{
 "cells": [
  {
   "cell_type": "code",
   "execution_count": 507,
   "metadata": {},
   "outputs": [],
   "source": [
    "import tifffile\n",
    "import numpy as np\n",
    "import os\n",
    "import pandas as pd\n",
    "import re\n",
    "from glob import glob\n",
    "import matplotlib.pyplot as plt\n",
    "from skimage.filters import gaussian\n",
    "from skimage.transform import rotate\n",
    "from scipy.signal import find_peaks\n",
    "from ipywidgets import interactive, interact\n",
    "from tqdm.notebook import tqdm\n",
    "from pystackreg import StackReg\n",
    "import os\n",
    "from functools import lru_cache\n",
    "import warnings\n",
    "from joblib import Parallel, delayed"
   ]
  },
  {
   "cell_type": "code",
   "execution_count": 518,
   "metadata": {},
   "outputs": [],
   "source": [
    "class Experiment:\n",
    "    def __init__(self, directory):\n",
    "        self.directory = directory\n",
    "        self.extracted_dir = directory + \"/extracted/\"\n",
    "        self.files = glob(extracted_dir+\"*\")\n",
    "        self.FOVs = [x.split(\"/\")[-1].split(\"_\")[0] for x in files]\n",
    "        self.FOVs = sorted(list(set(self.FOVs)))\n",
    "        self.times = [x.split(\"/\")[-1].split(\"_\")[1] for x in files]\n",
    "        self.times = sorted(list(set(self.times)))\n",
    "        self.channels = [x.split(\"/\")[-1].split(\"_\")[2].split(\".\")[0] for x in files]\n",
    "        self.channels = sorted(list(set(self.channels)))\n",
    "        self.file_extension = files[0].split(\"/\")[-1].split(\"_\")[2].split(\".\")[-1]\n",
    "        \n",
    "    def img_path_generator(self, directory, FOV, time, channel, file_extension):\n",
    "        return f\"{directory}/{FOV}_{time}_{channel}.{file_extension}\" \n",
    "    \n",
    "    @property\n",
    "    def mean_start(self):\n",
    "        return self._mean_start\n",
    "    \n",
    "    @mean_start.setter\n",
    "    def mean_start(self, value):\n",
    "        assert value in [\"START\", \"END\"], \"mean_start should be START or END\"\n",
    "        self._mean_start = value\n",
    "    \n",
    "    @property\n",
    "    def registration_channel(self):\n",
    "        return self._registration_channel\n",
    "    \n",
    "    @registration_channel.setter\n",
    "    def registration_channel(self,value):\n",
    "        assert value in self.channels, f\"Channel must be one of {self.channels}\"\n",
    "        self._registration_channel = value\n",
    "    \n",
    "    \n",
    "    def get_mean_images(self, rotation=0):\n",
    "        if self._mean_start == \"END\":\n",
    "            mean_times = self.times[-15:]\n",
    "        elif self._mean_start == \"START\":\n",
    "            mean_times = self.times[:15]\n",
    "        \n",
    "        ex_path = self.img_path_generator(self.extracted_dir,self.FOVs[0],self.times[0],self.channels[1],self.file_extension)\n",
    "        img_size = tifffile.imread(ex_path).shape\n",
    "        mean_images = dict()\n",
    "        for FOV in self.FOVs:\n",
    "            mean_img = np.zeros(img_size)\n",
    "            mean_img_paths = [\n",
    "                self.img_path_generator(\n",
    "                    self.extracted_dir,FOV,x,self._registration_channel,file_extension) for x in mean_times\n",
    "            ]\n",
    "            mean_img_imgs = (tifffile.imread(x) for x in mean_img_paths)\n",
    "\n",
    "            for img in mean_img_imgs:\n",
    "                mean_img += img/mean_amount\n",
    "            mean_img = rotate(mean_img, rotation)\n",
    "            mean_images[FOV] = mean_img.astype(np.uint16)\n",
    "        print(f\"Mean images for {len(self.FOVs)} FOVs with rotation of {rotation}deg calculated, use the mean_images method to return a dict of mean images\")\n",
    "        self.mean_images = mean_images\n",
    "    \n",
    "    def get_image(self, FOV, time, channel):\n",
    "        directory = img_path_generator(self.extracted_dir, FOV, time, channel, self.file_extension)\n",
    "        return tifffile.imread(directory)\n",
    "    \n",
    "    def register_experiment(self, force=False):\n",
    "        try:\n",
    "            os.mkdir(directory+\"/registered/\")\n",
    "        except:\n",
    "            if force:\n",
    "                warnings.warn(\"Reregistering experiment\")\n",
    "            elif not force:\n",
    "                raise Exception(\"The experiment has already been registered, to re-register use force=True\")\n",
    "        self.registered_dir = directory+\"/registered/\"\n",
    "        Parallel(n_jobs=-1)(delayed(self.register_FOV)(FOV) for FOV in self.FOVs)\n",
    "        \n",
    "    def register_FOV(self, FOV):\n",
    "        ref = self.mean_images[FOV]\n",
    "        for time in self.times:\n",
    "            img_path = img_path_generator(self.extracted_dir, FOV, time, self._registration_channel, self.file_extension)\n",
    "            mov = tifffile.imread(img_path)\n",
    "            sr = StackReg(StackReg.RIGID_BODY)\n",
    "            sr.register(ref, mov)\n",
    "            mov = sr.transform(mov)\n",
    "            mov = mov.astype(np.uint16)\n",
    "            out_path = img_path_generator(self.registered_dir, FOV, time, self._registration_channel, self.file_extension)\n",
    "            tifffile.imwrite(out_path, mov)\n",
    "            for channel in self.channels:\n",
    "                if channel == self._registration_channel:\n",
    "                    pass\n",
    "                else:\n",
    "                    img_path = img_path_generator(self.extracted_dir, FOV, time, channel, self.file_extension)\n",
    "                    mov = tifffile.imread(img_path)\n",
    "                    mov = sr.transform(mov)\n",
    "                    mov = mov.astype(np.uint16)\n",
    "                    out_path = img_path_generator(self.registered_dir, FOV, time, channel, self.file_extension)\n",
    "                    tifffile.imwrite(out_path, mov)\n",
    "            "
   ]
  },
  {
   "cell_type": "code",
   "execution_count": 519,
   "metadata": {},
   "outputs": [
    {
     "name": "stdout",
     "output_type": "stream",
     "text": [
      "['Green', 'PC', 'Red', 'YFP']\n"
     ]
    }
   ],
   "source": [
    "directory = '/home/georgeos/Storage/Dropbox/Dropbox (Cambridge University)/Nikon Nd2 Backup_Bakshi-Lab/sb2330/20220331/tna_GFP_SB6_exit/'\n",
    "\n",
    "experiment = Experiment(directory)\n",
    "\n",
    "experiment.mean_start = \"END\"\n",
    "print(experiment.channels)"
   ]
  },
  {
   "cell_type": "code",
   "execution_count": 520,
   "metadata": {},
   "outputs": [
    {
     "name": "stdout",
     "output_type": "stream",
     "text": [
      "Mean images for 10 FOVs with rotation of -1deg calculated, use the mean_images method to return a dict of mean images\n"
     ]
    }
   ],
   "source": [
    "experiment.registration_channel = \"PC\"\n",
    "experiment.get_mean_images(rotation=-1)"
   ]
  },
  {
   "cell_type": "code",
   "execution_count": null,
   "metadata": {},
   "outputs": [
    {
     "name": "stderr",
     "output_type": "stream",
     "text": [
      "<ipython-input-518-afdadfbecd37>:69: UserWarning: Reregistering experiment\n",
      "  warnings.warn(\"Reregistering experiment\")\n"
     ]
    }
   ],
   "source": [
    "experiment.register_experiment(force=True)"
   ]
  },
  {
   "cell_type": "code",
   "execution_count": null,
   "metadata": {},
   "outputs": [],
   "source": []
  }
 ],
 "metadata": {
  "kernelspec": {
   "display_name": "Python 3 (ipykernel)",
   "language": "python",
   "name": "python3"
  },
  "language_info": {
   "codemirror_mode": {
    "name": "ipython",
    "version": 3
   },
   "file_extension": ".py",
   "mimetype": "text/x-python",
   "name": "python",
   "nbconvert_exporter": "python",
   "pygments_lexer": "ipython3",
   "version": "3.9.5"
  }
 },
 "nbformat": 4,
 "nbformat_minor": 4
}
